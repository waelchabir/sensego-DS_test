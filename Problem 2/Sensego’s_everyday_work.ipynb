{
  "nbformat": 4,
  "nbformat_minor": 0,
  "metadata": {
    "colab": {
      "name": "Sensego’s everyday work.ipynb",
      "provenance": [],
      "collapsed_sections": []
    },
    "kernelspec": {
      "name": "python3",
      "display_name": "Python 3"
    }
  },
  "cells": [
    {
      "cell_type": "markdown",
      "metadata": {
        "id": "xigTOQofT3ao",
        "colab_type": "text"
      },
      "source": [
        "# Import Headers"
      ]
    },
    {
      "cell_type": "code",
      "metadata": {
        "id": "o_z_7bQARiBG",
        "colab_type": "code",
        "colab": {}
      },
      "source": [
        "import numpy as np\n",
        "import pandas as pd\n",
        "import datetime\n",
        "import tqdm"
      ],
      "execution_count": 0,
      "outputs": []
    },
    {
      "cell_type": "markdown",
      "metadata": {
        "id": "tMpGe7AQT7d9",
        "colab_type": "text"
      },
      "source": [
        "#Load Data"
      ]
    },
    {
      "cell_type": "code",
      "metadata": {
        "id": "IQnesgswTRQd",
        "colab_type": "code",
        "colab": {}
      },
      "source": [
        "wifi_ds = pd.read_csv('extract_network.csv')"
      ],
      "execution_count": 0,
      "outputs": []
    },
    {
      "cell_type": "markdown",
      "metadata": {
        "id": "5Z4Z_MGSUDis",
        "colab_type": "text"
      },
      "source": [
        "#Start Work"
      ]
    },
    {
      "cell_type": "markdown",
      "metadata": {
        "id": "LaZ5N35HWMRZ",
        "colab_type": "text"
      },
      "source": [
        "### Explore Data"
      ]
    },
    {
      "cell_type": "code",
      "metadata": {
        "id": "0ZvqF7Hlniv8",
        "colab_type": "code",
        "outputId": "7ef28a03-dba5-405f-c292-4fa17322c4ad",
        "colab": {
          "base_uri": "https://localhost:8080/",
          "height": 122
        }
      },
      "source": [
        "wifi_ds.dtypes"
      ],
      "execution_count": 4,
      "outputs": [
        {
          "output_type": "execute_result",
          "data": {
            "text/plain": [
              "suid           object\n",
              "sensing_ts     object\n",
              "ssid           object\n",
              "bssid          object\n",
              "rssi          float64\n",
              "dtype: object"
            ]
          },
          "metadata": {
            "tags": []
          },
          "execution_count": 4
        }
      ]
    },
    {
      "cell_type": "code",
      "metadata": {
        "id": "ssej7e1wWzk-",
        "colab_type": "code",
        "outputId": "911a0e2b-5d01-4572-a782-9972d0335e24",
        "colab": {
          "base_uri": "https://localhost:8080/",
          "height": 410
        }
      },
      "source": [
        "wifi_ds"
      ],
      "execution_count": 5,
      "outputs": [
        {
          "output_type": "execute_result",
          "data": {
            "text/html": [
              "<div>\n",
              "<style scoped>\n",
              "    .dataframe tbody tr th:only-of-type {\n",
              "        vertical-align: middle;\n",
              "    }\n",
              "\n",
              "    .dataframe tbody tr th {\n",
              "        vertical-align: top;\n",
              "    }\n",
              "\n",
              "    .dataframe thead th {\n",
              "        text-align: right;\n",
              "    }\n",
              "</style>\n",
              "<table border=\"1\" class=\"dataframe\">\n",
              "  <thead>\n",
              "    <tr style=\"text-align: right;\">\n",
              "      <th></th>\n",
              "      <th>suid</th>\n",
              "      <th>sensing_ts</th>\n",
              "      <th>ssid</th>\n",
              "      <th>bssid</th>\n",
              "      <th>rssi</th>\n",
              "    </tr>\n",
              "  </thead>\n",
              "  <tbody>\n",
              "    <tr>\n",
              "      <th>0</th>\n",
              "      <td>017e47f973145d25ae16c3913afa46923517101199ff0a...</td>\n",
              "      <td>2018-04-08 12:13:00.966</td>\n",
              "      <td>sisma</td>\n",
              "      <td>1e:5f:2f:ce:d9:a0</td>\n",
              "      <td>-81.0</td>\n",
              "    </tr>\n",
              "    <tr>\n",
              "      <th>1</th>\n",
              "      <td>017e47f973145d25ae16c3913afa46923517101199ff0a...</td>\n",
              "      <td>2018-04-08 12:13:00.972</td>\n",
              "      <td>FREEBOX_AGNES_AP</td>\n",
              "      <td>2e:90:48:12:e9:14</td>\n",
              "      <td>-84.0</td>\n",
              "    </tr>\n",
              "    <tr>\n",
              "      <th>2</th>\n",
              "      <td>017e47f973145d25ae16c3913afa46923517101199ff0a...</td>\n",
              "      <td>2018-04-08 12:13:00.973</td>\n",
              "      <td>FreeWifi</td>\n",
              "      <td>1e:5f:2f:ce:d9:a2</td>\n",
              "      <td>-83.0</td>\n",
              "    </tr>\n",
              "    <tr>\n",
              "      <th>3</th>\n",
              "      <td>017e47f973145d25ae16c3913afa46923517101199ff0a...</td>\n",
              "      <td>2018-04-08 12:13:00.973</td>\n",
              "      <td>FreeWifi_secure</td>\n",
              "      <td>1e:5f:2f:ce:d9:a3</td>\n",
              "      <td>-84.0</td>\n",
              "    </tr>\n",
              "    <tr>\n",
              "      <th>4</th>\n",
              "      <td>017e47f973145d25ae16c3913afa46923517101199ff0a...</td>\n",
              "      <td>2018-04-08 12:13:00.973</td>\n",
              "      <td>FreeWifi_secure</td>\n",
              "      <td>f4:ca:e5:a1:2c:5a</td>\n",
              "      <td>-85.0</td>\n",
              "    </tr>\n",
              "    <tr>\n",
              "      <th>...</th>\n",
              "      <td>...</td>\n",
              "      <td>...</td>\n",
              "      <td>...</td>\n",
              "      <td>...</td>\n",
              "      <td>...</td>\n",
              "    </tr>\n",
              "    <tr>\n",
              "      <th>180269</th>\n",
              "      <td>69eec04fc9eea08529a35f9cc091765396cf44f495afdd...</td>\n",
              "      <td>2018-04-30 19:21:07.006</td>\n",
              "      <td>NaN</td>\n",
              "      <td>fe:a6:67:0a:b4:e3</td>\n",
              "      <td>-85.0</td>\n",
              "    </tr>\n",
              "    <tr>\n",
              "      <th>180270</th>\n",
              "      <td>69eec04fc9eea08529a35f9cc091765396cf44f495afdd...</td>\n",
              "      <td>2018-04-30 19:21:07.006</td>\n",
              "      <td>DIRECT-BO[TV]rayda</td>\n",
              "      <td>be:8c:cd:7c:28:84</td>\n",
              "      <td>-64.0</td>\n",
              "    </tr>\n",
              "    <tr>\n",
              "      <th>180271</th>\n",
              "      <td>69eec04fc9eea08529a35f9cc091765396cf44f495afdd...</td>\n",
              "      <td>2018-04-30 19:21:07.006</td>\n",
              "      <td>Smith</td>\n",
              "      <td>40:70:09:9f:d0:b0</td>\n",
              "      <td>-70.0</td>\n",
              "    </tr>\n",
              "    <tr>\n",
              "      <th>180272</th>\n",
              "      <td>69eec04fc9eea08529a35f9cc091765396cf44f495afdd...</td>\n",
              "      <td>2018-04-30 19:21:07.006</td>\n",
              "      <td>Smith-5G</td>\n",
              "      <td>40:70:09:9f:d0:b5</td>\n",
              "      <td>-81.0</td>\n",
              "    </tr>\n",
              "    <tr>\n",
              "      <th>180273</th>\n",
              "      <td>69eec04fc9eea08529a35f9cc091765396cf44f495afdd...</td>\n",
              "      <td>2018-04-30 19:21:07.083</td>\n",
              "      <td>Smith</td>\n",
              "      <td>40:70:09:9f:d0:b0</td>\n",
              "      <td>-64.0</td>\n",
              "    </tr>\n",
              "  </tbody>\n",
              "</table>\n",
              "<p>180274 rows × 5 columns</p>\n",
              "</div>"
            ],
            "text/plain": [
              "                                                     suid  ...  rssi\n",
              "0       017e47f973145d25ae16c3913afa46923517101199ff0a...  ... -81.0\n",
              "1       017e47f973145d25ae16c3913afa46923517101199ff0a...  ... -84.0\n",
              "2       017e47f973145d25ae16c3913afa46923517101199ff0a...  ... -83.0\n",
              "3       017e47f973145d25ae16c3913afa46923517101199ff0a...  ... -84.0\n",
              "4       017e47f973145d25ae16c3913afa46923517101199ff0a...  ... -85.0\n",
              "...                                                   ...  ...   ...\n",
              "180269  69eec04fc9eea08529a35f9cc091765396cf44f495afdd...  ... -85.0\n",
              "180270  69eec04fc9eea08529a35f9cc091765396cf44f495afdd...  ... -64.0\n",
              "180271  69eec04fc9eea08529a35f9cc091765396cf44f495afdd...  ... -70.0\n",
              "180272  69eec04fc9eea08529a35f9cc091765396cf44f495afdd...  ... -81.0\n",
              "180273  69eec04fc9eea08529a35f9cc091765396cf44f495afdd...  ... -64.0\n",
              "\n",
              "[180274 rows x 5 columns]"
            ]
          },
          "metadata": {
            "tags": []
          },
          "execution_count": 5
        }
      ]
    },
    {
      "cell_type": "code",
      "metadata": {
        "id": "jeLlTVteUCGk",
        "colab_type": "code",
        "outputId": "589b41bc-7141-48a3-9141-7595b5c954d8",
        "colab": {
          "base_uri": "https://localhost:8080/",
          "height": 755
        }
      },
      "source": [
        "print(\"Data shape: \" + str(wifi_ds.shape))\n",
        "print(\"NaN counts: \\n\" + str(wifi_ds.isna().sum()) + \"\\n\")\n",
        "print(\"#Unique devices: \" + str(len(wifi_ds['suid'].unique())))\n",
        "print(\"#Unique Wifis: \" + str(len(wifi_ds['ssid'].unique())))\n",
        "print(\"#Unique MACs: \" + str(len(wifi_ds['bssid'].unique())))\n",
        "print('First datetime of records: \\t' + str(wifi_ds['sensing_ts'].min()))\n",
        "print('Last datetime of records: \\t' + str(wifi_ds['sensing_ts'].max()))\n",
        "print('#Seen WIFI by device: ')\n",
        "for suid in wifi_ds['suid'].unique():\n",
        "  print(str(suid) + \" => \\t(\" + str(len(wifi_ds[wifi_ds.suid==suid]['bssid'])) + \" , UNIQUES: \\t\" + str(len(wifi_ds[wifi_ds.suid==suid]['bssid'].unique())) + \")\")"
      ],
      "execution_count": 6,
      "outputs": [
        {
          "output_type": "stream",
          "text": [
            "Data shape: (180274, 5)\n",
            "NaN counts: \n",
            "suid              0\n",
            "sensing_ts        0\n",
            "ssid          12532\n",
            "bssid             0\n",
            "rssi             92\n",
            "dtype: int64\n",
            "\n",
            "#Unique devices: 27\n",
            "#Unique Wifis: 4315\n",
            "#Unique MACs: 9896\n",
            "First datetime of records: \t2018-04-01 00:00:08.497\n",
            "Last datetime of records: \t2018-04-30 23:14:49.298\n",
            "#Seen WIFI by device: \n",
            "017e47f973145d25ae16c3913afa46923517101199ff0aa7a45eac16f61d33b0 => \t(434 , UNIQUES: \t55)\n",
            "01da16ee1790a27db25cfc761c80506091a902dd9e3af44033cd635ded882987 => \t(3056 , UNIQUES: \t41)\n",
            "0d3cf1db31f588de26e760cc1e7acaf1b5f60b24b14e6db85fde4d2347532680 => \t(2385 , UNIQUES: \t106)\n",
            "0d7941d091ddfb741c3eb4b00efcb04802cab271128308034f4af359e85298e6 => \t(2370 , UNIQUES: \t21)\n",
            "0e2b6574d9102df830608db713b3533e12426a3051fa10729f94ab705df66519 => \t(10182 , UNIQUES: \t1837)\n",
            "0ffb80acdcf5e11bfa483740ac141df29a37388ecc6abfcc3b619740e8a1f841 => \t(1145 , UNIQUES: \t5)\n",
            "11720a42649d41db48258c6817cba9d774f49f5d557ae5dbbdeebf510184d176 => \t(1214 , UNIQUES: \t59)\n",
            "118a3b8f9241bd791fdb2d4e903dd9ec058b6d37f764e3fdfdc4f22125f54277 => \t(3227 , UNIQUES: \t58)\n",
            "1e69e6e46476bf300650f333328b71c67585849efdc4de215bf42d6e6e7593a3 => \t(68 , UNIQUES: \t3)\n",
            "2ea0886a6600ce78a2515bc492b3c1b466e9a4402374b15b609b5bcf5cb08e7e => \t(164 , UNIQUES: \t3)\n",
            "2f2f3cfb6bcd64fa7f380df94f26279bc8abfe76efbd5708cb59f07b0eb8b761 => \t(286 , UNIQUES: \t2)\n",
            "35ce04de72b8de219f9aece6c70fc259376f66a1db5ef964bb9f928b75e0248e => \t(53386 , UNIQUES: \t317)\n",
            "3b9cd59fdb0ad6b121cd9be6bf572d6516f9f5440d22d2ba2dfd39c4a4f58d95 => \t(1126 , UNIQUES: \t3)\n",
            "3fa77688e6c881752e91e84de45fc53fd2dcc54f5509483aba21872a6ff2d735 => \t(28046 , UNIQUES: \t3116)\n",
            "4acb451a86200a7d7bdd947961df5385d3ac5267cdc9fd33f66ae53543be8184 => \t(1015 , UNIQUES: \t1)\n",
            "4ad3bf4c6d2e2cd30026dc9c6e93632fbb0fae99f76472dc2020d6f68958db26 => \t(124 , UNIQUES: \t1)\n",
            "4b5087b3bcf0638e7185309a40444d4c5380bcb6bdff509cd0a3365f8b09fa2b => \t(3205 , UNIQUES: \t4)\n",
            "4fb52f3982fe4803e0e1ae25a3525502836139afa2fc160540b1b29980cadaf9 => \t(2848 , UNIQUES: \t15)\n",
            "524a9dd2c145fb3d12bf9f8aa4d699a8458dca6a98f9ee0a62fb6c136591bdaa => \t(524 , UNIQUES: \t2)\n",
            "52a4431be603084fb8f969ea4c24a5cf3b7e79d632570e4b2ae9470583302184 => \t(21648 , UNIQUES: \t209)\n",
            "5b620b1d4198b024a1ca9820afd4fa6087e4dcc6c9b08fef744180b6cab3f40a => \t(4954 , UNIQUES: \t87)\n",
            "5bf9ab22f537653909751149e79a6a28d5109e471c568425e04447548345a02d => \t(1016 , UNIQUES: \t285)\n",
            "5c7d78e19fcf34169a65cceb2bf4946ec3ee6c728d78a18e43111181d1eb7bbf => \t(7322 , UNIQUES: \t481)\n",
            "66fd03c182e2228243b9cc2e164142250708772482695a44c29c23a304f30563 => \t(529 , UNIQUES: \t21)\n",
            "676e3b27aa8e1aba6b5f12b5f515b0311dd5401ee7788824927f6e3aa3d4c973 => \t(9096 , UNIQUES: \t834)\n",
            "67df452ba8e358127230dab6a7c70e32f4aa26f9b0fbd2bc91002aff15af246e => \t(243 , UNIQUES: \t55)\n",
            "69eec04fc9eea08529a35f9cc091765396cf44f495afddffe9f43b75dc44596b => \t(20661 , UNIQUES: \t2449)\n"
          ],
          "name": "stdout"
        }
      ]
    },
    {
      "cell_type": "markdown",
      "metadata": {
        "id": "Nmt45z5iklnN",
        "colab_type": "text"
      },
      "source": [
        "###Clean data"
      ]
    },
    {
      "cell_type": "code",
      "metadata": {
        "id": "WvmtqKllWZ2I",
        "colab_type": "code",
        "colab": {}
      },
      "source": [
        "wifi_ds.drop([110796], inplace=True)"
      ],
      "execution_count": 0,
      "outputs": []
    },
    {
      "cell_type": "code",
      "metadata": {
        "id": "1cGPfxZcoCab",
        "colab_type": "code",
        "colab": {}
      },
      "source": [
        "wifi_ds['sensing_ts'] = pd.to_datetime(wifi_ds['sensing_ts'])"
      ],
      "execution_count": 0,
      "outputs": []
    },
    {
      "cell_type": "markdown",
      "metadata": {
        "id": "YcLgLUH4mpBp",
        "colab_type": "text"
      },
      "source": [
        "###Detect when someone is at home or at work."
      ]
    },
    {
      "cell_type": "code",
      "metadata": {
        "id": "DuMabSAhfzVl",
        "colab_type": "code",
        "colab": {}
      },
      "source": [
        "def getWifisPerDeviceInTimeInterval(dataset, suid, \n",
        "                                    hour_start_range, min_start_range, \n",
        "                                    hour_end_range, min_end_range, \n",
        "                                    min_delta_duration):\n",
        "  TIME_STEP = 30\n",
        "  time_blocks_count = min_delta_duration / TIME_STEP\n",
        "  wifiPerDeviceInTimeRange = dataset[(wifi_ds.suid == suid)].sort_values(by=['sensing_ts'])\n",
        "  wifis_list = wifiPerDeviceInTimeRange['bssid']\n",
        "  stop_dt = dataset[wifi_ds.suid == suid]['sensing_ts'].max().to_pydatetime()\n",
        "  result = []\n",
        "  for wifi in tqdm.tqdm(list(set(wifis_list))):\n",
        "    if len(result)> 0:\n",
        "      print('Result: ' + str(result)) #TODO remove\n",
        "    wifi_time_availability_count = 0\n",
        "    current_dt = dataset[wifi_ds.suid == suid]['sensing_ts'].min().to_pydatetime()\n",
        "    while((current_dt < stop_dt)):\n",
        "      \n",
        "      # print('I am in the WHILE loop at current_dt: ' + str(current_dt)) #TODO remove\n",
        "      wifis_available = wifiPerDeviceInTimeRange[(wifiPerDeviceInTimeRange.sensing_ts >= current_dt) & \n",
        "                                                 (wifiPerDeviceInTimeRange.sensing_ts < (current_dt + datetime.timedelta(minutes=30)))]['bssid']\n",
        "      if wifi in wifis_available:\n",
        "        print(str(wifi in wifis_available))\n",
        "        wifi_time_availability_count +=1\n",
        "        print('wifi_time_availability_count: ' + str(wifi_time_availability_count))\n",
        "      else:\n",
        "        print('at ' + str(current_dt) + ', ' + str(wifi) + 'is no avalable in the list' + str(list(wifis_available)))\n",
        "        wifi_time_availability_count = 0\n",
        "      \n",
        "      current_dt = current_dt + datetime.timedelta(minutes=30)\n",
        "      # print('current_dt: ' + str(current_dt)) #TODO remove\n",
        "      if (wifi_time_availability_count >= time_blocks_count):\n",
        "        result.append(wifi)\n",
        "\n",
        "  return result"
      ],
      "execution_count": 0,
      "outputs": []
    }
  ]
}